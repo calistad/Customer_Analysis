{
 "cells": [
  {
   "cell_type": "code",
   "execution_count": 1,
   "id": "5dbd825a-73f7-4224-b4cb-a8d6aa62af99",
   "metadata": {},
   "outputs": [],
   "source": [
    "import pandas as pd\n",
    "import numpy as np\n",
    "import matplotlib.pyplot as plt\n",
    "import seaborn as sns"
   ]
  },
  {
   "cell_type": "code",
   "execution_count": 2,
   "id": "27088678-2627-44b2-8c6b-8935fa4476ac",
   "metadata": {},
   "outputs": [],
   "source": [
    "# Import and Load txt data.\n",
    "df = pd.read_csv('Resources/amazon_cells.txt', delimiter='\\t', header=None)\n",
    "# Set the column names.\n",
    "df.columns = ['Reviews', 'Sentiment']"
   ]
  },
  {
   "cell_type": "code",
   "execution_count": 3,
   "id": "cf826a28-b363-4f9a-85f7-c7267f2bd557",
   "metadata": {},
   "outputs": [
    {
     "data": {
      "text/html": [
       "<div>\n",
       "<style scoped>\n",
       "    .dataframe tbody tr th:only-of-type {\n",
       "        vertical-align: middle;\n",
       "    }\n",
       "\n",
       "    .dataframe tbody tr th {\n",
       "        vertical-align: top;\n",
       "    }\n",
       "\n",
       "    .dataframe thead th {\n",
       "        text-align: right;\n",
       "    }\n",
       "</style>\n",
       "<table border=\"1\" class=\"dataframe\">\n",
       "  <thead>\n",
       "    <tr style=\"text-align: right;\">\n",
       "      <th></th>\n",
       "      <th>Reviews</th>\n",
       "      <th>Sentiment</th>\n",
       "    </tr>\n",
       "  </thead>\n",
       "  <tbody>\n",
       "    <tr>\n",
       "      <th>0</th>\n",
       "      <td>So there is no way for me to plug it in here in the US unless I go by a converter.</td>\n",
       "      <td>0</td>\n",
       "    </tr>\n",
       "    <tr>\n",
       "      <th>1</th>\n",
       "      <td>Good case, Excellent value.</td>\n",
       "      <td>1</td>\n",
       "    </tr>\n",
       "    <tr>\n",
       "      <th>2</th>\n",
       "      <td>Great for the jawbone.</td>\n",
       "      <td>1</td>\n",
       "    </tr>\n",
       "    <tr>\n",
       "      <th>3</th>\n",
       "      <td>Tied to charger for conversations lasting more than 45 minutes.MAJOR PROBLEMS!!</td>\n",
       "      <td>0</td>\n",
       "    </tr>\n",
       "    <tr>\n",
       "      <th>4</th>\n",
       "      <td>The mic is great.</td>\n",
       "      <td>1</td>\n",
       "    </tr>\n",
       "    <tr>\n",
       "      <th>5</th>\n",
       "      <td>I have to jiggle the plug to get it to line up right to get decent volume.</td>\n",
       "      <td>0</td>\n",
       "    </tr>\n",
       "    <tr>\n",
       "      <th>6</th>\n",
       "      <td>If you have several dozen or several hundred contacts, then imagine the fun of sending each of them one by one.</td>\n",
       "      <td>0</td>\n",
       "    </tr>\n",
       "    <tr>\n",
       "      <th>7</th>\n",
       "      <td>If you are Razr owner...you must have this!</td>\n",
       "      <td>1</td>\n",
       "    </tr>\n",
       "    <tr>\n",
       "      <th>8</th>\n",
       "      <td>Needless to say, I wasted my money.</td>\n",
       "      <td>0</td>\n",
       "    </tr>\n",
       "    <tr>\n",
       "      <th>9</th>\n",
       "      <td>What a waste of money and time!.</td>\n",
       "      <td>0</td>\n",
       "    </tr>\n",
       "  </tbody>\n",
       "</table>\n",
       "</div>"
      ],
      "text/plain": [
       "                                                                                                           Reviews  \\\n",
       "0                               So there is no way for me to plug it in here in the US unless I go by a converter.   \n",
       "1                                                                                      Good case, Excellent value.   \n",
       "2                                                                                           Great for the jawbone.   \n",
       "3                                  Tied to charger for conversations lasting more than 45 minutes.MAJOR PROBLEMS!!   \n",
       "4                                                                                                The mic is great.   \n",
       "5                                       I have to jiggle the plug to get it to line up right to get decent volume.   \n",
       "6  If you have several dozen or several hundred contacts, then imagine the fun of sending each of them one by one.   \n",
       "7                                                                      If you are Razr owner...you must have this!   \n",
       "8                                                                              Needless to say, I wasted my money.   \n",
       "9                                                                                 What a waste of money and time!.   \n",
       "\n",
       "   Sentiment  \n",
       "0          0  \n",
       "1          1  \n",
       "2          1  \n",
       "3          0  \n",
       "4          1  \n",
       "5          0  \n",
       "6          0  \n",
       "7          1  \n",
       "8          0  \n",
       "9          0  "
      ]
     },
     "execution_count": 3,
     "metadata": {},
     "output_type": "execute_result"
    }
   ],
   "source": [
    "pd.set_option('display.max_colwidth', 5000)\n",
    "df.head(10)"
   ]
  },
  {
   "cell_type": "code",
   "execution_count": 4,
   "id": "032d623b-708e-4a05-93e8-c4c4a2835907",
   "metadata": {},
   "outputs": [
    {
     "data": {
      "text/plain": [
       "(1000, 2)"
      ]
     },
     "execution_count": 4,
     "metadata": {},
     "output_type": "execute_result"
    }
   ],
   "source": [
    "df.shape"
   ]
  },
  {
   "cell_type": "code",
   "execution_count": 5,
   "id": "5623a606-ffb2-4bd2-a91a-774b6768bab8",
   "metadata": {},
   "outputs": [
    {
     "data": {
      "text/html": [
       "<div>\n",
       "<style scoped>\n",
       "    .dataframe tbody tr th:only-of-type {\n",
       "        vertical-align: middle;\n",
       "    }\n",
       "\n",
       "    .dataframe tbody tr th {\n",
       "        vertical-align: top;\n",
       "    }\n",
       "\n",
       "    .dataframe thead th {\n",
       "        text-align: right;\n",
       "    }\n",
       "</style>\n",
       "<table border=\"1\" class=\"dataframe\">\n",
       "  <thead>\n",
       "    <tr style=\"text-align: right;\">\n",
       "      <th></th>\n",
       "      <th>Sentiment</th>\n",
       "    </tr>\n",
       "  </thead>\n",
       "  <tbody>\n",
       "    <tr>\n",
       "      <th>count</th>\n",
       "      <td>1000.00000</td>\n",
       "    </tr>\n",
       "    <tr>\n",
       "      <th>mean</th>\n",
       "      <td>0.50000</td>\n",
       "    </tr>\n",
       "    <tr>\n",
       "      <th>std</th>\n",
       "      <td>0.50025</td>\n",
       "    </tr>\n",
       "    <tr>\n",
       "      <th>min</th>\n",
       "      <td>0.00000</td>\n",
       "    </tr>\n",
       "    <tr>\n",
       "      <th>25%</th>\n",
       "      <td>0.00000</td>\n",
       "    </tr>\n",
       "    <tr>\n",
       "      <th>50%</th>\n",
       "      <td>0.50000</td>\n",
       "    </tr>\n",
       "    <tr>\n",
       "      <th>75%</th>\n",
       "      <td>1.00000</td>\n",
       "    </tr>\n",
       "    <tr>\n",
       "      <th>max</th>\n",
       "      <td>1.00000</td>\n",
       "    </tr>\n",
       "  </tbody>\n",
       "</table>\n",
       "</div>"
      ],
      "text/plain": [
       "        Sentiment\n",
       "count  1000.00000\n",
       "mean      0.50000\n",
       "std       0.50025\n",
       "min       0.00000\n",
       "25%       0.00000\n",
       "50%       0.50000\n",
       "75%       1.00000\n",
       "max       1.00000"
      ]
     },
     "execution_count": 5,
     "metadata": {},
     "output_type": "execute_result"
    }
   ],
   "source": [
    "df.describe()"
   ]
  },
  {
   "cell_type": "code",
   "execution_count": 6,
   "id": "85f3c062-ff1d-41c0-b84d-86f1ba634a98",
   "metadata": {},
   "outputs": [
    {
     "data": {
      "image/png": "[encoded data removed]",
      "text/plain": [
       "<Figure size 432x288 with 1 Axes>"
      ]
     },
     "metadata": {
      "needs_background": "light"
     },
     "output_type": "display_data"
    }
   ],
   "source": [
    "# Verify the distribution.\n",
    "sns.countplot(data=df, x='Sentiment')\n",
    "plt.show()"
   ]
  },
  {
   "cell_type": "markdown",
   "id": "37c8471f-7f13-481c-8069-043ae4eb950a",
   "metadata": {},
   "source": [
    "### Clean data"
   ]
  },
  {
   "cell_type": "code",
   "execution_count": 7,
   "id": "52a9814b-7aaf-499b-8fac-7d4e2ed13400",
   "metadata": {},
   "outputs": [],
   "source": [
    "import re\n",
    "import nltk\n",
    "from nltk.corpus import stopwords\n",
    "from nltk import word_tokenize\n",
    "# nltk.download('punkt')"
   ]
  },
  {
   "cell_type": "code",
   "execution_count": 8,
   "id": "8a9bfbb4-0399-48a3-9326-12694e2803cb",
   "metadata": {},
   "outputs": [],
   "source": [
    "des_list = []\n",
    "stop_words = stopwords.words('english')\n",
    "\n",
    "for des in df.Reviews:\n",
    "    # Remove special characters.\n",
    "    des = re.sub('[^a-zA-Z]', ' ', des)\n",
    "    \n",
    "    # Convert to lower case.\n",
    "    des = des.lower()\n",
    "    \n",
    "    # Perform tokenization - divide text into smaller text.\n",
    "    des = nltk.word_tokenize(des)\n",
    "    \n",
    "    # Perform lemmatization - chop of xuffix.\n",
    "    lemma = nltk.WordNetLemmatizer()\n",
    "    des = [lemma.lemmatize(word) for word in des]\n",
    "    \n",
    "    # Remove stop words.\n",
    "    des = [w for w in des if not w in stop_words]\n",
    "    \n",
    "    des = ' '.join(des)\n",
    "    des_list.append(des)"
   ]
  },
  {
   "cell_type": "code",
   "execution_count": 9,
   "id": "12ee7cd6-aadc-47db-9e5e-ecc50ce1c984",
   "metadata": {},
   "outputs": [],
   "source": [
    "df['Clean_reviews'] = des_list"
   ]
  },
  {
   "cell_type": "code",
   "execution_count": 10,
   "id": "37a79165-c8a5-4354-acef-75f988fe6c7f",
   "metadata": {},
   "outputs": [
    {
     "data": {
      "text/html": [
       "<div>\n",
       "<style scoped>\n",
       "    .dataframe tbody tr th:only-of-type {\n",
       "        vertical-align: middle;\n",
       "    }\n",
       "\n",
       "    .dataframe tbody tr th {\n",
       "        vertical-align: top;\n",
       "    }\n",
       "\n",
       "    .dataframe thead th {\n",
       "        text-align: right;\n",
       "    }\n",
       "</style>\n",
       "<table border=\"1\" class=\"dataframe\">\n",
       "  <thead>\n",
       "    <tr style=\"text-align: right;\">\n",
       "      <th></th>\n",
       "      <th>Reviews</th>\n",
       "      <th>Sentiment</th>\n",
       "      <th>Clean_reviews</th>\n",
       "    </tr>\n",
       "  </thead>\n",
       "  <tbody>\n",
       "    <tr>\n",
       "      <th>0</th>\n",
       "      <td>So there is no way for me to plug it in here in the US unless I go by a converter.</td>\n",
       "      <td>0</td>\n",
       "      <td>way plug u unless go converter</td>\n",
       "    </tr>\n",
       "    <tr>\n",
       "      <th>1</th>\n",
       "      <td>Good case, Excellent value.</td>\n",
       "      <td>1</td>\n",
       "      <td>good case excellent value</td>\n",
       "    </tr>\n",
       "    <tr>\n",
       "      <th>2</th>\n",
       "      <td>Great for the jawbone.</td>\n",
       "      <td>1</td>\n",
       "      <td>great jawbone</td>\n",
       "    </tr>\n",
       "    <tr>\n",
       "      <th>3</th>\n",
       "      <td>Tied to charger for conversations lasting more than 45 minutes.MAJOR PROBLEMS!!</td>\n",
       "      <td>0</td>\n",
       "      <td>tied charger conversation lasting minute major problem</td>\n",
       "    </tr>\n",
       "    <tr>\n",
       "      <th>4</th>\n",
       "      <td>The mic is great.</td>\n",
       "      <td>1</td>\n",
       "      <td>mic great</td>\n",
       "    </tr>\n",
       "  </tbody>\n",
       "</table>\n",
       "</div>"
      ],
      "text/plain": [
       "                                                                              Reviews  \\\n",
       "0  So there is no way for me to plug it in here in the US unless I go by a converter.   \n",
       "1                                                         Good case, Excellent value.   \n",
       "2                                                              Great for the jawbone.   \n",
       "3     Tied to charger for conversations lasting more than 45 minutes.MAJOR PROBLEMS!!   \n",
       "4                                                                   The mic is great.   \n",
       "\n",
       "   Sentiment                                           Clean_reviews  \n",
       "0          0                          way plug u unless go converter  \n",
       "1          1                               good case excellent value  \n",
       "2          1                                           great jawbone  \n",
       "3          0  tied charger conversation lasting minute major problem  \n",
       "4          1                                               mic great  "
      ]
     },
     "execution_count": 10,
     "metadata": {},
     "output_type": "execute_result"
    }
   ],
   "source": [
    "df.head()"
   ]
  },
  {
   "cell_type": "code",
   "execution_count": 11,
   "id": "14ea4fba-6476-4efb-9e86-ec0632183089",
   "metadata": {},
   "outputs": [
    {
     "data": {
      "text/plain": [
       "1568"
      ]
     },
     "execution_count": 11,
     "metadata": {},
     "output_type": "execute_result"
    }
   ],
   "source": [
    "# Tokenizer.\n",
    "from tensorflow.keras.preprocessing.text import Tokenizer\n",
    "tokenizer_n = Tokenizer()\n",
    "tokenizer_n.fit_on_texts(df.Clean_reviews)\n",
    "\n",
    "# Vocabulary size.\n",
    "vocab_size = len(tokenizer_n.word_index)+1\n",
    "vocab_size"
   ]
  },
  {
   "cell_type": "markdown",
   "id": "6d5b2cc6-b20b-4486-a9a9-ff9681a27961",
   "metadata": {},
   "source": [
    "### Train and split"
   ]
  },
  {
   "cell_type": "code",
   "execution_count": 12,
   "id": "9327d946-00bf-4120-b23a-b5e865a1d84c",
   "metadata": {},
   "outputs": [],
   "source": [
    "# Split data into train and test set.\n",
    "from sklearn.model_selection import train_test_split\n",
    "X = np.array(des_list)\n",
    "y = df.Sentiment\n",
    "\n",
    "X_train, X_test, y_train, y_test = train_test_split(X, y, test_size=0.2, random_state=20, stratify=y)"
   ]
  },
  {
   "cell_type": "code",
   "execution_count": 13,
   "id": "32a1fa6b-68c9-4490-8ec3-caffa9d4520a",
   "metadata": {},
   "outputs": [
    {
     "data": {
      "text/plain": [
       "(800,)"
      ]
     },
     "execution_count": 13,
     "metadata": {},
     "output_type": "execute_result"
    }
   ],
   "source": [
    "X_train.shape"
   ]
  },
  {
   "cell_type": "code",
   "execution_count": 14,
   "id": "3cf4d1d6-9b28-4d36-bc6a-81839ab423f4",
   "metadata": {},
   "outputs": [
    {
     "data": {
      "text/plain": [
       "(200,)"
      ]
     },
     "execution_count": 14,
     "metadata": {},
     "output_type": "execute_result"
    }
   ],
   "source": [
    "X_test.shape"
   ]
  },
  {
   "cell_type": "code",
   "execution_count": 15,
   "id": "0a1c8142-d71b-4e5b-9c48-18b9de479a1d",
   "metadata": {},
   "outputs": [],
   "source": [
    "X_train = pd.Series(X_train)\n",
    "y_train = pd.Series(y_train)\n",
    "X_test = pd.Series(X_test)\n",
    "y_test = pd.Series(y_test)"
   ]
  },
  {
   "cell_type": "code",
   "execution_count": 16,
   "id": "72976316-ac3f-4a82-bbd2-a4543a7bc633",
   "metadata": {},
   "outputs": [],
   "source": [
    "# Extract dataset.\n",
    "df.to_csv('Resources/clean_data.csv')\n",
    "X_train.to_csv('Resources/X_train.csv')\n",
    "y_train.to_csv('Resources/y_train.csv')\n",
    "X_test.to_csv('Resources/X_test.csv')\n",
    "y_test.to_csv('Resources/y_test.csv')"
   ]
  },
  {
   "cell_type": "markdown",
   "id": "138f232f-dab2-44ad-b0a1-c3456a33d633",
   "metadata": {},
   "source": [
    "### Tokenize and pad data prepared for model."
   ]
  },
  {
   "cell_type": "code",
   "execution_count": 17,
   "id": "ceff5d3f-2c61-48c4-86d1-d048385bd7b4",
   "metadata": {},
   "outputs": [],
   "source": [
    "# Tokenizer.\n",
    "tokenizer = Tokenizer()\n",
    "tokenizer.fit_on_texts(X_train)"
   ]
  },
  {
   "cell_type": "code",
   "execution_count": 18,
   "id": "02d424b8-3c7d-4a0c-bade-debe084adde7",
   "metadata": {},
   "outputs": [
    {
     "data": {
      "text/plain": [
       "1388"
      ]
     },
     "execution_count": 18,
     "metadata": {},
     "output_type": "execute_result"
    }
   ],
   "source": [
    "# Vocabulary size.\n",
    "vocab_size = len(tokenizer.word_index)+1\n",
    "vocab_size"
   ]
  },
  {
   "cell_type": "code",
   "execution_count": 19,
   "id": "fa14ccea-bd70-434e-b507-1eb6d47b37eb",
   "metadata": {},
   "outputs": [],
   "source": [
    "# Word index.\n",
    "word_index = tokenizer.word_index\n",
    "# print(word_index)"
   ]
  },
  {
   "cell_type": "code",
   "execution_count": 20,
   "id": "bbd768a0-2e58-463a-8cd5-bd7750a74fb1",
   "metadata": {},
   "outputs": [
    {
     "data": {
      "text/plain": [
       "6"
      ]
     },
     "execution_count": 20,
     "metadata": {},
     "output_type": "execute_result"
    }
   ],
   "source": [
    "# Word embedding length.\n",
    "max_seq_emb = int(round(np.sqrt(np.sqrt(vocab_size)),0))\n",
    "max_seq_emb"
   ]
  },
  {
   "cell_type": "code",
   "execution_count": 21,
   "id": "3c83112e-8380-4999-8b3e-6eef6a2f46c8",
   "metadata": {},
   "outputs": [
    {
     "data": {
      "text/plain": [
       "113"
      ]
     },
     "execution_count": 21,
     "metadata": {},
     "output_type": "execute_result"
    }
   ],
   "source": [
    "# Max sequence length.\n",
    "def get_max_len(name):\n",
    "    len_list = []\n",
    "    for l in name:\n",
    "        len_list.append(len(l))\n",
    "    max_len = np.max(len_list)\n",
    "    return max_len\n",
    "max_len = get_max_len(df['Clean_reviews'])\n",
    "max_len"
   ]
  },
  {
   "cell_type": "code",
   "execution_count": 22,
   "id": "429c0bd2-22f5-47d2-b2bd-9a68ae2db52e",
   "metadata": {},
   "outputs": [
    {
     "data": {
      "text/plain": [
       "array([  0,   0,   0,   0,   0,   0,   0,   0,   0,   0,   0,   0,   0,\n",
       "         0,   0,   0,   0,   0,   0,   0,   0,   0,   0,   0,   0,   0,\n",
       "         0,   0,   0,   0,   0,   0,   0,   0,   0,   0,   0,   0,   0,\n",
       "         0,   0,   0,   0,   0,   0,   0,   0,   0,   0,   0,   0,   0,\n",
       "         0,   0,   0,   0,   0,   0,   0,   0,   0,   0,   0,   0,   0,\n",
       "         0,   0,   0,   0,   0,   0,   0,   0,   0,   0,   0,   0,   0,\n",
       "         0,   0,   0,   0,   0,   0,   0,   0,   0,   0,   0,   0,   0,\n",
       "         0,   0,   0,   0,   0,   0,   0,   0,   0,   0,   0,   0,   0,\n",
       "         0,   0,   0,   0,   0,  21,   6, 251,  58], dtype=int32)"
      ]
     },
     "execution_count": 22,
     "metadata": {},
     "output_type": "execute_result"
    }
   ],
   "source": [
    "# Pre-padding sequence.\n",
    "import sys\n",
    "from tensorflow.keras.preprocessing.sequence import pad_sequences\n",
    "\n",
    "seq = tokenizer.texts_to_sequences(X_train)\n",
    "seq_test = tokenizer.texts_to_sequences(X_test)\n",
    "\n",
    "x_train = pad_sequences(seq, maxlen=max_len, padding='pre', truncating='pre')\n",
    "x_test = pad_sequences(seq_test, maxlen=max_len, padding='pre', truncating='pre')\n",
    "\n",
    "# Display the padded sequence.\n",
    "np.set_printoptions(threshold=sys.maxsize)\n",
    "x_train[1]"
   ]
  },
  {
   "cell_type": "code",
   "execution_count": 23,
   "id": "78282ff0-84b9-464e-a0c8-3ecd33510d79",
   "metadata": {},
   "outputs": [
    {
     "data": {
      "text/plain": [
       "(800, 113)"
      ]
     },
     "execution_count": 23,
     "metadata": {},
     "output_type": "execute_result"
    }
   ],
   "source": [
    "x_train.shape"
   ]
  },
  {
   "cell_type": "code",
   "execution_count": 24,
   "id": "bbc4d753-41c2-4129-bf0e-52d9906c07b0",
   "metadata": {},
   "outputs": [
    {
     "data": {
      "text/plain": [
       "(800, 2)"
      ]
     },
     "execution_count": 24,
     "metadata": {},
     "output_type": "execute_result"
    }
   ],
   "source": [
    "from keras.utils.np_utils import to_categorical\n",
    "y_train = to_categorical(np.asarray(y_train))\n",
    "y_test = to_categorical(np.asarray(y_test))\n",
    "\n",
    "y_train.shape"
   ]
  },
  {
   "cell_type": "markdown",
   "id": "fef55fd6-6bb8-4576-95f1-bc66e74a05c5",
   "metadata": {},
   "source": [
    "### Train the model"
   ]
  },
  {
   "cell_type": "code",
   "execution_count": 25,
   "id": "7f3a0719-c265-4e37-aabe-1a168389cad9",
   "metadata": {},
   "outputs": [],
   "source": [
    "from keras.layers import Dense, Input, Flatten\n",
    "from keras.layers import GlobalAveragePooling1D, Embedding\n",
    "from keras.models import Model\n",
    "from keras.models import Sequential  "
   ]
  },
  {
   "cell_type": "code",
   "execution_count": 26,
   "id": "808545f7-1901-4a86-83a6-5e098396e3cb",
   "metadata": {},
   "outputs": [],
   "source": [
    "# Functional API.\n",
    "inputs = Input(shape=(max_len,), dtype='int32')\n",
    "\n",
    "embed_layer = Embedding(vocab_size, 50, input_length=max_len, trainable=True)\n",
    "hidden1 = embed_layer(inputs)\n",
    "hidden2 = GlobalAveragePooling1D()(hidden1)\n",
    "hidden3 = Dense(20, activation='relu')(hidden2)\n",
    "hidden4 = Dense(10, activation='relu')(hidden3)\n",
    "\n",
    "outputs = Dense(2, activation='softmax')(hidden4)\n",
    "\n",
    "model = Model(inputs, outputs)"
   ]
  },
  {
   "cell_type": "code",
   "execution_count": 28,
   "id": "322660eb-21c6-4375-9fb2-9f410ac4eda2",
   "metadata": {},
   "outputs": [
    {
     "name": "stdout",
     "output_type": "stream",
     "text": [
      "Epoch 1/40\n",
      "18/18 [==============================] - 1s 20ms/step - loss: 0.6925 - acc: 0.5696 - val_loss: 0.6929 - val_acc: 0.4708\n",
      "Epoch 2/40\n",
      "18/18 [==============================] - 0s 10ms/step - loss: 0.6913 - acc: 0.5125 - val_loss: 0.6928 - val_acc: 0.4708\n",
      "Epoch 3/40\n",
      "18/18 [==============================] - 0s 8ms/step - loss: 0.6904 - acc: 0.5125 - val_loss: 0.6933 - val_acc: 0.4708\n",
      "Epoch 4/40\n",
      "18/18 [==============================] - 0s 8ms/step - loss: 0.6888 - acc: 0.5268 - val_loss: 0.6910 - val_acc: 0.4792\n",
      "Epoch 5/40\n",
      "18/18 [==============================] - 0s 9ms/step - loss: 0.6872 - acc: 0.5339 - val_loss: 0.6905 - val_acc: 0.4750\n",
      "Epoch 6/40\n",
      "18/18 [==============================] - 0s 7ms/step - loss: 0.6827 - acc: 0.7375 - val_loss: 0.6870 - val_acc: 0.5208\n",
      "Epoch 7/40\n",
      "18/18 [==============================] - 0s 8ms/step - loss: 0.6766 - acc: 0.6571 - val_loss: 0.6801 - val_acc: 0.5625\n",
      "Epoch 8/40\n",
      "18/18 [==============================] - 0s 7ms/step - loss: 0.6678 - acc: 0.7821 - val_loss: 0.6741 - val_acc: 0.6708\n",
      "Epoch 9/40\n",
      "18/18 [==============================] - 0s 7ms/step - loss: 0.6536 - acc: 0.7268 - val_loss: 0.6782 - val_acc: 0.5083\n",
      "Epoch 10/40\n",
      "18/18 [==============================] - 0s 10ms/step - loss: 0.6367 - acc: 0.7286 - val_loss: 0.6590 - val_acc: 0.6833\n",
      "Epoch 11/40\n",
      "18/18 [==============================] - 0s 13ms/step - loss: 0.6088 - acc: 0.8232 - val_loss: 0.6363 - val_acc: 0.8125\n",
      "Epoch 12/40\n",
      "18/18 [==============================] - 0s 10ms/step - loss: 0.5721 - acc: 0.8821 - val_loss: 0.6104 - val_acc: 0.7750\n",
      "Epoch 13/40\n",
      "18/18 [==============================] - 0s 8ms/step - loss: 0.5273 - acc: 0.8964 - val_loss: 0.5842 - val_acc: 0.7750\n",
      "Epoch 14/40\n",
      "18/18 [==============================] - 0s 11ms/step - loss: 0.4758 - acc: 0.9411 - val_loss: 0.5628 - val_acc: 0.7167\n",
      "Epoch 15/40\n",
      "18/18 [==============================] - 0s 11ms/step - loss: 0.4390 - acc: 0.8857 - val_loss: 0.5443 - val_acc: 0.7167\n",
      "Epoch 16/40\n",
      "18/18 [==============================] - 0s 12ms/step - loss: 0.3835 - acc: 0.9268 - val_loss: 0.5257 - val_acc: 0.7792\n",
      "Epoch 17/40\n",
      "18/18 [==============================] - 0s 7ms/step - loss: 0.3548 - acc: 0.9018 - val_loss: 0.5021 - val_acc: 0.7875\n",
      "Epoch 18/40\n",
      "18/18 [==============================] - 0s 9ms/step - loss: 0.2915 - acc: 0.9589 - val_loss: 0.4864 - val_acc: 0.7917\n",
      "Epoch 19/40\n",
      "18/18 [==============================] - 0s 18ms/step - loss: 0.2582 - acc: 0.9518 - val_loss: 0.4439 - val_acc: 0.7792\n",
      "Epoch 20/40\n",
      "18/18 [==============================] - 0s 9ms/step - loss: 0.2251 - acc: 0.9625 - val_loss: 0.4324 - val_acc: 0.7792\n",
      "Epoch 21/40\n",
      "18/18 [==============================] - 0s 9ms/step - loss: 0.1992 - acc: 0.9643 - val_loss: 0.4251 - val_acc: 0.7833\n",
      "Epoch 22/40\n",
      "18/18 [==============================] - 0s 9ms/step - loss: 0.1763 - acc: 0.9661 - val_loss: 0.4209 - val_acc: 0.7917\n",
      "Epoch 23/40\n",
      "18/18 [==============================] - 0s 9ms/step - loss: 0.1584 - acc: 0.9750 - val_loss: 0.4161 - val_acc: 0.7917\n",
      "Epoch 24/40\n",
      "18/18 [==============================] - 0s 9ms/step - loss: 0.1417 - acc: 0.9679 - val_loss: 0.4167 - val_acc: 0.8083\n",
      "Epoch 25/40\n",
      "18/18 [==============================] - 0s 8ms/step - loss: 0.1327 - acc: 0.9696 - val_loss: 0.4166 - val_acc: 0.8125\n",
      "Epoch 26/40\n",
      "18/18 [==============================] - 0s 10ms/step - loss: 0.1203 - acc: 0.9696 - val_loss: 0.4244 - val_acc: 0.7875\n"
     ]
    }
   ],
   "source": [
    "model.compile(loss='categorical_crossentropy', optimizer='adam', metrics=['acc'])\n",
    "\n",
    "# Early stopping.\n",
    "from keras.callbacks import EarlyStopping\n",
    "monitor = EarlyStopping(patience=3)\n",
    "\n",
    "m = model.fit(x_train, y_train, validation_split=0.3, epochs=40, callbacks=[monitor])"
   ]
  },
  {
   "cell_type": "code",
   "execution_count": 29,
   "id": "d564abe6-5cd4-4f3d-ac88-5393973111a2",
   "metadata": {},
   "outputs": [
    {
     "data": {
      "image/png": "[encoded data removed]",
      "text/plain": [
       "<Figure size 432x288 with 1 Axes>"
      ]
     },
     "metadata": {
      "needs_background": "light"
     },
     "output_type": "display_data"
    }
   ],
   "source": [
    "# Loss.\n",
    "plt.plot(m.history['loss'], label='train')\n",
    "plt.plot(m.history['val_loss'], label='test')\n",
    "plt.title('Training vs. Validation Loss')\n",
    "plt.legend()\n",
    "plt.show()"
   ]
  },
  {
   "cell_type": "code",
   "execution_count": 30,
   "id": "e40c6ab4-76c4-4332-a0dc-626d61a4ecd2",
   "metadata": {},
   "outputs": [
    {
     "data": {
      "image/png": "[encoded data removed]",
      "text/plain": [
       "<Figure size 432x288 with 1 Axes>"
      ]
     },
     "metadata": {
      "needs_background": "light"
     },
     "output_type": "display_data"
    }
   ],
   "source": [
    "# Accuracy.\n",
    "plt.plot(m.history['acc'], label='train')\n",
    "plt.plot(m.history['val_acc'], label='test')\n",
    "plt.title('Training vs. Validation Accuracy')\n",
    "plt.legend()\n",
    "plt.show()"
   ]
  },
  {
   "cell_type": "code",
   "execution_count": 31,
   "id": "890a8ea3-e464-4c3c-8582-295646cc3d5d",
   "metadata": {},
   "outputs": [
    {
     "name": "stdout",
     "output_type": "stream",
     "text": [
      "Model: \"model\"\n",
      "_________________________________________________________________\n",
      " Layer (type)                Output Shape              Param #   \n",
      "=================================================================\n",
      " input_1 (InputLayer)        [(None, 113)]             0         \n",
      "                                                                 \n",
      " embedding (Embedding)       (None, 113, 50)           69400     \n",
      "                                                                 \n",
      " global_average_pooling1d (G  (None, 50)               0         \n",
      " lobalAveragePooling1D)                                          \n",
      "                                                                 \n",
      " dense (Dense)               (None, 20)                1020      \n",
      "                                                                 \n",
      " dense_1 (Dense)             (None, 10)                210       \n",
      "                                                                 \n",
      " dense_2 (Dense)             (None, 2)                 22        \n",
      "                                                                 \n",
      "=================================================================\n",
      "Total params: 70,652\n",
      "Trainable params: 70,652\n",
      "Non-trainable params: 0\n",
      "_________________________________________________________________\n"
     ]
    }
   ],
   "source": [
    "model.summary()"
   ]
  },
  {
   "cell_type": "code",
   "execution_count": 32,
   "id": "c18849e0-c8cc-4c6e-a588-398da1ab5b5d",
   "metadata": {},
   "outputs": [
    {
     "name": "stdout",
     "output_type": "stream",
     "text": [
      "Test loss: 0.5589595437049866 / Test accuracy: 0.7400000095367432\n"
     ]
    }
   ],
   "source": [
    "# Test set accuracy.\n",
    "score = model.evaluate(x_test, y_test, verbose=0)\n",
    "print(f'Test loss: {score[0]} / Test accuracy: {score[1]}')"
   ]
  },
  {
   "cell_type": "code",
   "execution_count": 33,
   "id": "c2ebd7d2-8052-46c1-b8d0-d089f321c842",
   "metadata": {},
   "outputs": [
    {
     "name": "stdout",
     "output_type": "stream",
     "text": [
      "7/7 [==============================] - 0s 2ms/step\n"
     ]
    },
    {
     "data": {
      "text/plain": [
       "0.82175"
      ]
     },
     "execution_count": 33,
     "metadata": {},
     "output_type": "execute_result"
    }
   ],
   "source": [
    "# Roc-auc score.\n",
    "from sklearn.metrics import roc_auc_score\n",
    "\n",
    "y_pred = model.predict(x_test)\n",
    "roc_auc_score(y_test, y_pred)"
   ]
  },
  {
   "cell_type": "code",
   "execution_count": 34,
   "id": "cd1a2d1e-d915-4100-8b00-3a2a38e4fd38",
   "metadata": {},
   "outputs": [
    {
     "name": "stdout",
     "output_type": "stream",
     "text": [
      "INFO:tensorflow:Assets written to: D213_NN_model.hs/assets\n"
     ]
    }
   ],
   "source": [
    "# Save the model.\n",
    "model.save('D213_NN_model.hs')"
   ]
  },
  {
   "cell_type": "markdown",
   "id": "ff68e7c3-ddb1-46f9-90dd-449ba1d87565",
   "metadata": {},
   "source": [
    "### Sequential API"
   ]
  },
  {
   "cell_type": "code",
   "execution_count": 35,
   "id": "43c0e2b5-9492-466f-b07f-9ec43cfad918",
   "metadata": {},
   "outputs": [],
   "source": [
    "# Sequential API.\n",
    "model = Sequential()    \n",
    "\n",
    "# Input tensor.\n",
    "model.add(Input(shape=(max_len,)))\n",
    "# Hidden layer1.\n",
    "model.add(Dense(40, activation='relu')) \n",
    "# Hidden layer2.\n",
    "model.add(Dense(30, activation='relu'))\n",
    "model.add(Dense(20, activation='relu'))\n",
    "# Output layer.\n",
    "model.add(Dense(2, activation='softmax')) "
   ]
  },
  {
   "cell_type": "code",
   "execution_count": 36,
   "id": "69edc05b-ec48-46b0-8ffd-3784ac11d48e",
   "metadata": {},
   "outputs": [
    {
     "name": "stdout",
     "output_type": "stream",
     "text": [
      "Epoch 1/40\n",
      "18/18 [==============================] - 1s 14ms/step - loss: 11.2724 - acc: 0.4714 - val_loss: 9.1355 - val_acc: 0.4667\n",
      "Epoch 2/40\n",
      "18/18 [==============================] - 0s 6ms/step - loss: 3.7962 - acc: 0.4946 - val_loss: 5.4761 - val_acc: 0.5167\n",
      "Epoch 3/40\n",
      "18/18 [==============================] - 0s 6ms/step - loss: 2.5544 - acc: 0.5339 - val_loss: 4.5691 - val_acc: 0.4958\n",
      "Epoch 4/40\n",
      "18/18 [==============================] - 0s 5ms/step - loss: 1.6249 - acc: 0.5679 - val_loss: 4.3699 - val_acc: 0.4833\n",
      "Epoch 5/40\n",
      "18/18 [==============================] - 0s 5ms/step - loss: 1.3940 - acc: 0.5768 - val_loss: 4.1374 - val_acc: 0.5500\n",
      "Epoch 6/40\n",
      "18/18 [==============================] - 0s 6ms/step - loss: 1.1721 - acc: 0.5911 - val_loss: 4.1298 - val_acc: 0.5292\n",
      "Epoch 7/40\n",
      "18/18 [==============================] - 0s 7ms/step - loss: 1.0572 - acc: 0.6054 - val_loss: 4.0957 - val_acc: 0.4917\n",
      "Epoch 8/40\n",
      "18/18 [==============================] - 0s 7ms/step - loss: 0.8318 - acc: 0.6500 - val_loss: 3.9309 - val_acc: 0.5333\n",
      "Epoch 9/40\n",
      "18/18 [==============================] - 0s 7ms/step - loss: 0.7917 - acc: 0.6482 - val_loss: 3.8454 - val_acc: 0.5583\n",
      "Epoch 10/40\n",
      "18/18 [==============================] - 0s 7ms/step - loss: 0.7462 - acc: 0.6589 - val_loss: 4.1168 - val_acc: 0.5375\n",
      "Epoch 11/40\n",
      "18/18 [==============================] - 0s 7ms/step - loss: 0.7242 - acc: 0.6786 - val_loss: 4.0397 - val_acc: 0.5375\n"
     ]
    }
   ],
   "source": [
    "model.compile(loss='categorical_crossentropy', optimizer='adam', metrics=['acc'])\n",
    "\n",
    "monitor = EarlyStopping(patience=2)\n",
    "m = model.fit(x_train, y_train, validation_split=0.3, epochs=40, callbacks=[monitor])"
   ]
  },
  {
   "cell_type": "code",
   "execution_count": 37,
   "id": "9b7fc97d-2ef4-4a72-96f3-00a001fc5fba",
   "metadata": {},
   "outputs": [
    {
     "data": {
      "image/png": "[encoded data removed]",
      "text/plain": [
       "<Figure size 432x288 with 1 Axes>"
      ]
     },
     "metadata": {
      "needs_background": "light"
     },
     "output_type": "display_data"
    }
   ],
   "source": [
    "plt.plot(m.history['loss'], label='train')\n",
    "plt.plot(m.history['val_loss'], label='test')\n",
    "plt.title('Training vs. Validation Loss')\n",
    "plt.legend()\n",
    "plt.show()"
   ]
  },
  {
   "cell_type": "code",
   "execution_count": 38,
   "id": "b8e311c8-fb04-480b-9942-6df50cf28f7b",
   "metadata": {},
   "outputs": [
    {
     "data": {
      "image/png": "[encoded data removed]",
      "text/plain": [
       "<Figure size 432x288 with 1 Axes>"
      ]
     },
     "metadata": {
      "needs_background": "light"
     },
     "output_type": "display_data"
    }
   ],
   "source": [
    "# Accuracy.\n",
    "plt.plot(m.history['acc'], label='train')\n",
    "plt.plot(m.history['val_acc'], label='test')\n",
    "plt.title('Training vs. Validation Accuracy')\n",
    "plt.legend()\n",
    "plt.show()"
   ]
  },
  {
   "cell_type": "code",
   "execution_count": 39,
   "id": "b515a87c-aae2-4f91-97d6-bcd7b7aad904",
   "metadata": {},
   "outputs": [
    {
     "name": "stdout",
     "output_type": "stream",
     "text": [
      "Model: \"sequential\"\n",
      "_________________________________________________________________\n",
      " Layer (type)                Output Shape              Param #   \n",
      "=================================================================\n",
      " dense_3 (Dense)             (None, 40)                4560      \n",
      "                                                                 \n",
      " dense_4 (Dense)             (None, 30)                1230      \n",
      "                                                                 \n",
      " dense_5 (Dense)             (None, 20)                620       \n",
      "                                                                 \n",
      " dense_6 (Dense)             (None, 2)                 42        \n",
      "                                                                 \n",
      "=================================================================\n",
      "Total params: 6,452\n",
      "Trainable params: 6,452\n",
      "Non-trainable params: 0\n",
      "_________________________________________________________________\n"
     ]
    }
   ],
   "source": [
    "model.summary()"
   ]
  },
  {
   "cell_type": "code",
   "execution_count": 40,
   "id": "09ec869f-f2e6-4b1a-8d69-86eda4b52cf4",
   "metadata": {},
   "outputs": [
    {
     "name": "stdout",
     "output_type": "stream",
     "text": [
      "Test loss: 1.625349521636963 / Test accuracy: 0.5149999856948853\n"
     ]
    }
   ],
   "source": [
    "score = model.evaluate(x_test, y_test, verbose=0)\n",
    "print(f'Test loss: {score[0]} / Test accuracy: {score[1]}')"
   ]
  },
  {
   "cell_type": "code",
   "execution_count": 42,
   "id": "112f41c2-8545-4c84-8f1a-696e38766af8",
   "metadata": {},
   "outputs": [
    {
     "name": "stdout",
     "output_type": "stream",
     "text": [
      "7/7 [==============================] - 0s 3ms/step\n"
     ]
    },
    {
     "data": {
      "text/plain": [
       "0.51915"
      ]
     },
     "execution_count": 42,
     "metadata": {},
     "output_type": "execute_result"
    }
   ],
   "source": [
    "# Roc-auc score.\n",
    "y_pred = model.predict(x_test)\n",
    "roc_auc_score(y_test, y_pred)"
   ]
  },
  {
   "cell_type": "code",
   "execution_count": null,
   "id": "d4fdf2e0-6eca-46a4-a95c-d66cb4501184",
   "metadata": {},
   "outputs": [],
   "source": []
  }
 ],
 "metadata": {
  "kernelspec": {
   "display_name": "Python 3 (ipykernel)",
   "language": "python",
   "name": "python3"
  },
  "language_info": {
   "codemirror_mode": {
    "name": "ipython",
    "version": 3
   },
   "file_extension": ".py",
   "mimetype": "text/x-python",
   "name": "python",
   "nbconvert_exporter": "python",
   "pygments_lexer": "ipython3",
   "version": "3.8.8"
  }
 },
 "nbformat": 4,
 "nbformat_minor": 5
}
